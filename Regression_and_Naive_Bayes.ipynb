{
  "cells": [
    {
      "cell_type": "markdown",
      "metadata": {
        "id": "view-in-github",
        "colab_type": "text"
      },
      "source": [
        "<a href=\"https://colab.research.google.com/github/elysethulin/PRACTICE/blob/master/Regression_and_Naive_Bayes.ipynb\" target=\"_parent\"><img src=\"https://colab.research.google.com/assets/colab-badge.svg\" alt=\"Open In Colab\"/></a>"
      ]
    },
    {
      "cell_type": "markdown",
      "id": "upper-devil",
      "metadata": {
        "id": "upper-devil"
      },
      "source": [
        "# Regression and Naive Bayes\n",
        "\n",
        "This notebook contains code to test, evaluate, and explore regression and Naive Bayes models in Python. The notebook is split into the followin main sections:\n",
        "\n",
        "1. Linear Regression\n",
        "2. Multiple Linear Regression\n",
        "3. Binary Regression\n",
        "4. Ridge Regression\n",
        "5. Naive Bayes Models\n",
        "\n",
        "Author: Joshua Pickard (jpic@umich.edu)\n",
        "\n",
        "Adapted from a collaboration Ning Peng's original work"
      ]
    },
    {
      "cell_type": "markdown",
      "id": "sensitive-copying",
      "metadata": {
        "id": "sensitive-copying"
      },
      "source": [
        "### Import packages"
      ]
    },
    {
      "cell_type": "code",
      "execution_count": null,
      "id": "adverse-rhythm",
      "metadata": {
        "id": "adverse-rhythm"
      },
      "outputs": [],
      "source": [
        "import pandas as pd   # Data handling\n",
        "import numpy as np    # Numerical Python\n",
        "\n",
        "# Visualizations\n",
        "import matplotlib.pyplot as plt \n",
        "import seaborn as sns \n",
        "from matplotlib import style\n",
        "from mlxtend.plotting import plot_decision_regions\n",
        "\n",
        "# Machine Learning Imports\n",
        "from sklearn import metrics         # Evaluation model performance (accuracy, precision, etc.)\n",
        "from sklearn import model_selection # Cross validation, hyperparameter tuning, etc.\n",
        "from sklearn import linear_model    # Linear models (regression) \n",
        "from sklearn import naive_bayes     # Naive Bayes\n",
        "from sklearn.datasets import make_blobs # Data generation"
      ]
    },
    {
      "cell_type": "markdown",
      "id": "taken-progressive",
      "metadata": {
        "id": "taken-progressive"
      },
      "source": [
        "# Linear Regression"
      ]
    },
    {
      "cell_type": "code",
      "execution_count": null,
      "id": "compatible-obligation",
      "metadata": {
        "id": "compatible-obligation",
        "outputId": "907df2ca-0fc8-478d-f0b1-82df6a999586",
        "colab": {
          "base_uri": "https://localhost:8080/"
        }
      },
      "outputs": [
        {
          "output_type": "stream",
          "name": "stdout",
          "text": [
            "Number of Samples:  28\n",
            "   SBP  Age\n",
            "0  144   39\n",
            "1  138   45\n",
            "2  145   47\n",
            "3  162   65\n",
            "4  170   67\n"
          ]
        }
      ],
      "source": [
        "# Load data\n",
        "df_1 = pd.read_csv('https://raw.githubusercontent.com/Jpickard1/MIDASBioMedBootCamp/main/Session_10/data/dataset1.txt', delimiter = \",\")\n",
        "\n",
        "# Verify data loaded correctly\n",
        "print('Number of Samples: ', len(df_1))\n",
        "print(df_1.head())"
      ]
    },
    {
      "cell_type": "markdown",
      "id": "intensive-acrobat",
      "metadata": {
        "id": "intensive-acrobat"
      },
      "source": [
        "We will need to extract X and Y from the dataset by making a subset of the dataframe"
      ]
    },
    {
      "cell_type": "code",
      "execution_count": null,
      "id": "ancient-terrain",
      "metadata": {
        "id": "ancient-terrain"
      },
      "outputs": [],
      "source": [
        "# Extract each variable from the data frame\n",
        "Y = df_1.SBP\n",
        "X = df_1.Age\n",
        "X = np.array(X).reshape(-1,1)"
      ]
    },
    {
      "cell_type": "markdown",
      "id": "dressed-anxiety",
      "metadata": {
        "id": "dressed-anxiety"
      },
      "source": [
        "### Scatter plot\n",
        "Scatter plot helps us visualize the relationship between dependent and independent variables."
      ]
    },
    {
      "cell_type": "code",
      "execution_count": null,
      "id": "smaller-music",
      "metadata": {
        "id": "smaller-music",
        "outputId": "3abf875d-8308-4f7b-b27c-28e8a9814df4",
        "colab": {
          "base_uri": "https://localhost:8080/",
          "height": 295
        }
      },
      "outputs": [
        {
          "output_type": "display_data",
          "data": {
            "text/plain": [
              "<Figure size 432x288 with 1 Axes>"
            ],
            "image/png": "[encoded data removed]"
          },
          "metadata": {
            "needs_background": "light"
          }
        }
      ],
      "source": [
        "# Create a scatterplot to further visualice the relationship between\n",
        "# SBP and Age\n",
        "plt.scatter(X, Y)   # Plot data\n",
        "plt.xlabel('Age')   # X axis label\n",
        "plt.ylabel('SBP')   # Y axis label\n",
        "plt.title('Scatter plot of SBP')  # Plot title\n",
        "plt.show()\n"
      ]
    },
    {
      "cell_type": "markdown",
      "id": "logical-wyoming",
      "metadata": {
        "id": "logical-wyoming"
      },
      "source": [
        "As you can see, there is a strongly positive correlation, so a linear regression should be able to capture this trend. Your job is to fit a linear regression and then predict the life expectancy, overlaying these predicted values on the plot to generate a regression line."
      ]
    },
    {
      "cell_type": "markdown",
      "id": "convertible-month",
      "metadata": {
        "id": "convertible-month"
      },
      "source": [
        "## Model building\n",
        "\n",
        "The `sklearn` model building process is similar for almost all types of models. It uses the following steps:\n",
        "1. Specify which type of machine learning model you want\n",
        "2. Fit the model to your training data\n",
        "3. Predict labels of the test data\n",
        "4. Evaluate the predictions"
      ]
    },
    {
      "cell_type": "code",
      "source": [
        "# 1. Specify model type: LinearRegression\n",
        "linear_regression_model = linear_model.LinearRegression()\n",
        "\n",
        "# 2. Fit the model to your data\n",
        "linear_regression_model.fit(X, Y)"
      ],
      "metadata": {
        "id": "NFH8OT60wGI9"
      },
      "id": "NFH8OT60wGI9",
      "execution_count": null,
      "outputs": []
    },
    {
      "cell_type": "code",
      "execution_count": null,
      "id": "canadian-biography",
      "metadata": {
        "id": "canadian-biography"
      },
      "outputs": [],
      "source": [
        "# When we want to retrive some information in the fitted model\n",
        "# we can use model_name.variableToBeRetrived_\n",
        "intercept = linear_regression_model.intercept_\n",
        "slope = linear_regression_model.coef_\n",
        "print('intercept:', intercept)\n",
        "print('slope:', slope)"
      ]
    },
    {
      "cell_type": "code",
      "source": [
        "# 3. Predict labels of data\n",
        "y_pred = linear_regression_model.predict(X)\n",
        "# Under the hood: y_pred = intercept + slope * X"
      ],
      "metadata": {
        "id": "_E98yCktnoNW"
      },
      "id": "_E98yCktnoNW",
      "execution_count": null,
      "outputs": []
    },
    {
      "cell_type": "code",
      "execution_count": null,
      "id": "great-atmosphere",
      "metadata": {
        "id": "great-atmosphere"
      },
      "outputs": [],
      "source": [
        "# Visualize regression\n",
        "plt.xlabel('SBP', fontsize=15)\n",
        "plt.ylabel('Age', fontsize=15)\n",
        "\n",
        "# Prediction\n",
        "plt.scatter(X, Y, c='blue')\n",
        "plt.scatter(X, y_pred, c='black')\n",
        "plt.plot(X, y_pred, c = 'red', linewidth=5, alpha=.5)\n",
        "plt.title('Fit Linear Regression Model')\n",
        "plt.legend(['Model', 'Data', 'Predictions'])\n",
        "plt.show()\n"
      ]
    },
    {
      "cell_type": "markdown",
      "id": "grateful-evening",
      "metadata": {
        "id": "grateful-evening"
      },
      "source": [
        "## Evaluation metric\n",
        "For regression, we measure the distance between the predicted and actual answers. The shorter the distance, the more correct the model is. These are 3 popular evaluation metrics for regression\n",
        "  * `Mean Absolute Error`: absolute value of the mean difference between all predicted and true values\n",
        "  * `Means Squared Error`: mean squared difference between predicted and true values\n",
        "  * `R2`: the proportion of the variance in the dependent variable that is predictable from the independent variable(s)"
      ]
    },
    {
      "cell_type": "code",
      "execution_count": null,
      "id": "complicated-football",
      "metadata": {
        "id": "complicated-football"
      },
      "outputs": [],
      "source": [
        "# MSE \n",
        "MSE = metrics.mean_squared_error(Y, y_pred)\n",
        "print('MSE:', MSE)\n",
        "\n",
        "# MAE \n",
        "MAE = metrics.mean_absolute_error(Y, y_pred)\n",
        "print('MAE:', MAE)\n",
        "\n",
        "# 𝑅²\n",
        "r_sq = linear_regression_model.score(X, Y)\n",
        "print('R squrare:', r_sq)"
      ]
    },
    {
      "cell_type": "markdown",
      "source": [
        "To recap, in the above section we took the following steps:\n",
        "1. Loaded in a dataset\n",
        "2. Visualize and explore the data\n",
        "3. Separated the data from the labels\n",
        "4. Constructed a regression model with the following steps:\n",
        "  - Specified the model type\n",
        "  - `model.fit(X,y)` the model to our data\n",
        "5. Made predictions with the model using the function `model.predict(X)`\n",
        "6. Evaluated the model's performance\n",
        "\n",
        "These 5 steps will be the main steps used in the remainder of the notebook as we explore different types of regression and Naive Bayes models. Additionally, we will also focus on how to deal with various issues in data.\n"
      ],
      "metadata": {
        "id": "j7sDuCgg1ZZL"
      },
      "id": "j7sDuCgg1ZZL"
    },
    {
      "cell_type": "markdown",
      "id": "based-recommendation",
      "metadata": {
        "id": "based-recommendation"
      },
      "source": [
        "# Multiple linear regression\n",
        "\n",
        "The goal in this section will be predicting the birth weight of an infant (oz) based on the mother’s smoking during pregnancy (pack/day) and mother’s age at childbirth (years) on birth weight of their infants (oz).\n",
        "\n",
        "This section uses the main steps we previewed above, but also introduces 2 important parts of handling data:\n",
        "1. Removing unrelated variables\n",
        "2. Partitioning our data for training versus testing"
      ]
    },
    {
      "cell_type": "code",
      "execution_count": null,
      "id": "cutting-checklist",
      "metadata": {
        "id": "cutting-checklist"
      },
      "outputs": [],
      "source": [
        "# Load data\n",
        "df_2 = pd.read_csv('https://raw.githubusercontent.com/Jpickard1/MIDASBioMedBootCamp/main/Session_10/data/smoke.csv')\n",
        "# View data structure\n",
        "df_2.head()"
      ]
    },
    {
      "cell_type": "markdown",
      "source": [
        "The `ID` attribute in our data is assigned to each patient, but doesn't contain relevant information to predicting the birth weight. In the code cell below, we remove this variable using the `.drop` function."
      ],
      "metadata": {
        "id": "yG8cpxbF3FuO"
      },
      "id": "yG8cpxbF3FuO"
    },
    {
      "cell_type": "code",
      "source": [
        "# ID is not needed in training/prediction process\n",
        "df_2 = df_2.drop('ID', axis=1)\n",
        "df_2.head()"
      ],
      "metadata": {
        "id": "XJFGJbdxoFvM"
      },
      "id": "XJFGJbdxoFvM",
      "execution_count": null,
      "outputs": []
    },
    {
      "cell_type": "markdown",
      "source": [
        "The `pandas` library inclueds 2 functions, `describe()` and `info()` that help us quickly explore our data."
      ],
      "metadata": {
        "id": "hPz3L24u3r31"
      },
      "id": "hPz3L24u3r31"
    },
    {
      "cell_type": "code",
      "execution_count": null,
      "id": "appropriate-azerbaijan",
      "metadata": {
        "id": "appropriate-azerbaijan"
      },
      "outputs": [],
      "source": [
        "df_2.describe()"
      ]
    },
    {
      "cell_type": "code",
      "source": [
        "df_2.info()"
      ],
      "metadata": {
        "id": "iQF1N6-j3qGA"
      },
      "id": "iQF1N6-j3qGA",
      "execution_count": null,
      "outputs": []
    },
    {
      "cell_type": "markdown",
      "source": [
        "In the below cell, a pair plot is generated that lets us explore the relationships between pair of variables. These can be helpful when the number of variables is small, but the number of plots increases factorially with the number of variables."
      ],
      "metadata": {
        "id": "nGyTCzKV4H0V"
      },
      "id": "nGyTCzKV4H0V"
    },
    {
      "cell_type": "code",
      "source": [
        "# We can plot the pairplot of variables\n",
        "# Set grid\n",
        "style.use('seaborn-whitegrid')\n",
        "# Set figure size\n",
        "plt.rcParams['figure.figsize'] = (20,10)\n",
        "# Specify dataset to used\n",
        "sns.pairplot(df_2)\n",
        "# You can also save the plot\n",
        "plt.savefig('pairplor_health_df_2.png')\n",
        "# Display the generated plot\n",
        "plt.show()"
      ],
      "metadata": {
        "id": "B75b04S74cpY"
      },
      "id": "B75b04S74cpY",
      "execution_count": null,
      "outputs": []
    },
    {
      "cell_type": "markdown",
      "source": [
        "Now that our data has been breifly analized, we are ready to begin partitioning the data and building our regression model."
      ],
      "metadata": {
        "id": "SjpsCxUq4fVV"
      },
      "id": "SjpsCxUq4fVV"
    },
    {
      "cell_type": "code",
      "execution_count": null,
      "id": "advanced-amplifier",
      "metadata": {
        "id": "advanced-amplifier"
      },
      "outputs": [],
      "source": [
        "X = df_2[['Mother_age', 'Mother_smoking']].to_numpy()\n",
        "Y = df_2['Birth_weight'].to_numpy().reshape(-1, 1)"
      ]
    },
    {
      "cell_type": "markdown",
      "id": "accredited-suicide",
      "metadata": {
        "id": "accredited-suicide"
      },
      "source": [
        "## Partition data for training and testing\n",
        "\n",
        "The `sklearn.model_selection` module, which we imported above, has a built in function for splitting our data into training and testing data. The `train_test_split` function accepts our data `X` and labels `y` and partitions them into training and testing data and labels. The amount of data reserved for testing is controlled with the `test_size` parameter."
      ]
    },
    {
      "cell_type": "code",
      "execution_count": null,
      "id": "third-surveillance",
      "metadata": {
        "id": "third-surveillance"
      },
      "outputs": [],
      "source": [
        "# This process happens randomly, but a random_state can be set to ensure consistent results.\n",
        "X_train, X_test, y_train, y_test = model_selection.train_test_split(X, Y, test_size = 0.2, random_state = 0)"
      ]
    },
    {
      "cell_type": "markdown",
      "id": "heard-gospel",
      "metadata": {
        "id": "heard-gospel"
      },
      "source": [
        "Reference for LinearRegression()\n",
        "\n",
        "https://scikit-learn.org/stable/modules/generated/sklearn.linear_model.LinearRegression.html"
      ]
    },
    {
      "cell_type": "code",
      "execution_count": null,
      "id": "boring-angle",
      "metadata": {
        "id": "boring-angle"
      },
      "outputs": [],
      "source": [
        "# Specify model type\n",
        "mlr = linear_model.LinearRegression()\n",
        "\n",
        "# Fit the model to the training data\n",
        "mlr.fit(X_train, y_train)"
      ]
    },
    {
      "cell_type": "code",
      "source": [
        "# Predict the value of the test data\n",
        "y_pred = mlr.predict(X_test)"
      ],
      "metadata": {
        "id": "9rdkyqag5gA4"
      },
      "id": "9rdkyqag5gA4",
      "execution_count": null,
      "outputs": []
    },
    {
      "cell_type": "code",
      "execution_count": null,
      "id": "failing-attraction",
      "metadata": {
        "id": "failing-attraction"
      },
      "outputs": [],
      "source": [
        "# Evaluate the model\n",
        "\n",
        "print(\"R-Squared :\", mlr.score(X_test, y_test))\n",
        "\n",
        "MSE = metrics.mean_squared_error(y_test, y_pred)\n",
        "print(\"MSE:\", MSE)\n",
        "\n",
        "MAE = metrics.mean_absolute_error(y_test, y_pred)\n",
        "print(\"MAE:\", MAE)"
      ]
    },
    {
      "cell_type": "markdown",
      "id": "narrow-perry",
      "metadata": {
        "id": "narrow-perry"
      },
      "source": [
        "## Binary Logistic Regression"
      ]
    },
    {
      "cell_type": "markdown",
      "id": "challenging-buffalo",
      "metadata": {
        "id": "challenging-buffalo"
      },
      "source": [
        "Linear regression is usually a good baseline model, but since the outcome we're trying to predict only takes values 0 and 1 we'll want to use logistic regression instead of linear regression.\n",
        "\n",
        "In this section, you will use the clinical dataset from Ille-et-Vilaine Study of Oesophageal Cancer\n",
        "- Cases: 200 men with oesophageal cancer\n",
        "- Controls: 775 healthy men\n",
        "- Primary Interest: To assess associations between alcohol and tobacco consumptions and oesophageal cancer incidence.\n"
      ]
    },
    {
      "cell_type": "code",
      "execution_count": null,
      "id": "closing-handle",
      "metadata": {
        "id": "closing-handle"
      },
      "outputs": [],
      "source": [
        "# Read-in and checking\n",
        "oesophageal_df = pd.read_csv(\"https://raw.githubusercontent.com/Jpickard1/MIDASBioMedBootCamp/main/Session_10/data/oesophageal.csv\", index_col=0)\n",
        "# Please examine the first 6 rows of the dataset use method in previous  data checking process\n",
        "oesophageal_df.head()"
      ]
    },
    {
      "cell_type": "code",
      "execution_count": null,
      "id": "chubby-increase",
      "metadata": {
        "id": "chubby-increase"
      },
      "outputs": [],
      "source": [
        "oesophageal_df.describe()"
      ]
    },
    {
      "cell_type": "code",
      "source": [
        "# Split the data frame into data and labels\n",
        "X = oesophageal_df.drop(\"case\", axis = 1).to_numpy()\n",
        "Y = oesophageal_df[\"case\"].to_numpy()"
      ],
      "metadata": {
        "id": "Asmui-yxxfmB"
      },
      "id": "Asmui-yxxfmB",
      "execution_count": null,
      "outputs": []
    },
    {
      "cell_type": "code",
      "execution_count": null,
      "id": "atmospheric-planner",
      "metadata": {
        "id": "atmospheric-planner"
      },
      "outputs": [],
      "source": [
        "# Partition the data for testing and validation\n",
        "X_train, X_test, y_train, y_test = model_selection.train_test_split(X, Y, test_size = 0.2, random_state = 0)"
      ]
    },
    {
      "cell_type": "markdown",
      "id": "stuffed-respondent",
      "metadata": {
        "id": "stuffed-respondent"
      },
      "source": [
        "**Model building part**\n",
        "Logistic regression: https://scikit-learn.org/stable/modules/generated/sklearn.linear_model.LogisticRegression.html"
      ]
    },
    {
      "cell_type": "code",
      "execution_count": null,
      "id": "designing-improvement",
      "metadata": {
        "id": "designing-improvement"
      },
      "outputs": [],
      "source": [
        "#‘lbfgs’ solver handles multinomial loss in multiclass problems\n",
        "logreg_model = linear_model.LogisticRegression(solver='lbfgs', class_weight=\"balanced\")\n",
        "logreg_model.fit(X_train, y_train)"
      ]
    },
    {
      "cell_type": "code",
      "execution_count": null,
      "id": "elder-indicator",
      "metadata": {
        "id": "elder-indicator"
      },
      "outputs": [],
      "source": [
        "y_preds_train = logreg_model.predict(X_train)\n",
        "y_preds_test = logreg_model.predict(X_test)\n",
        "\n",
        "full_logreg_score_train = metrics.accuracy_score(y_train, y_preds_train)\n",
        "full_logreg_score_test = metrics.accuracy_score(y_test, y_preds_test)\n",
        "\n",
        "# Evaluation\n",
        "print('Training Set Score: {}'.format(full_logreg_score_train))\n",
        "print('Test Set Score: {}'.format(full_logreg_score_test))"
      ]
    },
    {
      "cell_type": "code",
      "source": [
        "metrics.plot_confusion_matrix(logreg_model, X_test, y_test)  "
      ],
      "metadata": {
        "id": "HsasrwJKymvd"
      },
      "id": "HsasrwJKymvd",
      "execution_count": null,
      "outputs": []
    },
    {
      "cell_type": "markdown",
      "id": "upper-stability",
      "metadata": {
        "id": "upper-stability"
      },
      "source": [
        "As can be observed from the above matrix\n",
        "- TP = True Positives (predict positive, is positive)\n",
        "\n",
        "- TN = True Negatives (predict negative, is negative)\n",
        "\n",
        "- FP = False Positives (predict positive, is negative)\n",
        "\n",
        "- FN = False Negatives (predict negative, is positive)\n",
        "\n",
        "From this matrix, we can calculate the following:\n",
        "1. Accuracy = (TP + TN) / Total\n",
        "2. Sensitivity (recall) = TP / (TP + TN)\n",
        "3. Specificity = TN / (TP + FP)\n",
        "4. Precision = TP / (TP + FP)\n",
        "5. F1 = 2 * precision * recall / (precision + recall)\n",
        "\n",
        "and more scores. Each of these can be calculated manually, or with the syntax:\n",
        "\n",
        "`metrics_<specific metric goes here>_score(true values, predicted values)`."
      ]
    },
    {
      "cell_type": "code",
      "source": [
        "met = metrics.precision_score(y_test, y_preds_test)\n",
        "print(met)\n"
      ],
      "metadata": {
        "id": "GUPB_hw9EOK_"
      },
      "id": "GUPB_hw9EOK_",
      "execution_count": null,
      "outputs": []
    },
    {
      "cell_type": "markdown",
      "id": "differential-juice",
      "metadata": {
        "id": "differential-juice"
      },
      "source": [
        "## Part 3: Ridge Regression\n",
        "Ridge regression is a regression technique that is quite similar to unadorned least squares linear regression: simply adding an $\\ell_2$ **penalty** on the parameters $\\beta$ to the objective function for linear regression yields the objective function for ridge regression.\n",
        "\n",
        "Our goal is to find an assignment to $\\beta$ that minimizes the function\n",
        "\n",
        "$$f(\\beta) = \\|X\\beta - Y\\|_2^2 + \\lambda \\|\\beta\\|_2^2,$$\n",
        "\n",
        "where $\\lambda$ is a hyperparameter and, as usual, $X$ is the training data and $Y$ the observations. In practice, we tune $\\lambda$ until we find a model that generalizes well to the test data.\n",
        "\n",
        "In this section, your goal will be to use this data to predict the life expectancy in a given country based on features such as the country's GDP, fertility rate, and population."
      ]
    },
    {
      "cell_type": "code",
      "execution_count": null,
      "id": "italic-freedom",
      "metadata": {
        "id": "italic-freedom"
      },
      "outputs": [],
      "source": [
        "from IPython.display import Image\n",
        "from IPython.core.display import HTML \n",
        "Image(url='https://newonlinecourses.science.psu.edu/stat857/sites/onlinecourses.science.psu.edu.stat857/files/lesson04/ridge_regression_geomteric/index.png')"
      ]
    },
    {
      "cell_type": "code",
      "execution_count": null,
      "id": "incorporate-midwest",
      "metadata": {
        "id": "incorporate-midwest"
      },
      "outputs": [],
      "source": [
        "# Load dataset\n",
        "gm_df = pd.read_csv('https://raw.githubusercontent.com/Jpickard1/MIDASBioMedBootCamp/main/Session_10/data/gm_2008_region.csv')"
      ]
    },
    {
      "cell_type": "code",
      "execution_count": null,
      "id": "generic-worthy",
      "metadata": {
        "id": "generic-worthy"
      },
      "outputs": [],
      "source": [
        "gm_df.head()"
      ]
    },
    {
      "cell_type": "code",
      "source": [
        "gm_df.describe()"
      ],
      "metadata": {
        "id": "FYTUrInVBMoA"
      },
      "id": "FYTUrInVBMoA",
      "execution_count": null,
      "outputs": []
    },
    {
      "cell_type": "code",
      "source": [
        "gm_df.info()"
      ],
      "metadata": {
        "id": "HBkCBj7zBPSJ"
      },
      "id": "HBkCBj7zBPSJ",
      "execution_count": null,
      "outputs": []
    },
    {
      "cell_type": "markdown",
      "id": "configured-official",
      "metadata": {
        "id": "configured-official"
      },
      "source": [
        "## Clean data\n",
        "The dataset may contain a few unknown values. If that is the case, we can use dataset.dropna() function to do data cleaning."
      ]
    },
    {
      "cell_type": "code",
      "execution_count": null,
      "id": "early-theorem",
      "metadata": {
        "id": "early-theorem"
      },
      "outputs": [],
      "source": [
        "#print(\"num of na before cleaning: \", gm_df.isna().sum())\n",
        "gm_df = gm_df.drop(labels=['Region'], axis='columns')\n",
        "gm_df.isna().sum()\n"
      ]
    },
    {
      "cell_type": "markdown",
      "id": "mysterious-jamaica",
      "metadata": {
        "id": "mysterious-jamaica"
      },
      "source": [
        "To create a cleaner dataset, we will drop some columns and remove NaN values manually"
      ]
    },
    {
      "cell_type": "code",
      "execution_count": null,
      "id": "leading-architect",
      "metadata": {
        "id": "leading-architect"
      },
      "outputs": [],
      "source": [
        "# We create a subdataset based on the previous one\n",
        "# Split the data set into trianing and validation\n",
        "X = gm_df.drop('life', axis='columns').to_numpy()\n",
        "y = gm_df['life'].to_numpy()"
      ]
    },
    {
      "cell_type": "markdown",
      "id": "alpine-shuttle",
      "metadata": {
        "id": "alpine-shuttle"
      },
      "source": [
        "A test set should still be held out for final evaluation, but the validation set is no longer needed when doing cross validation. In the basic approach, called k-fold cross validation, the training set is split into k smaller sets. The following procedure is followed for each of the k “folds”:\n",
        "\n",
        "- A model is trained using k-1 of the folds as training data\n",
        "\n",
        "- the resulting model is evaluated based on its predictions for the remaining fold of the data\n",
        "\n",
        "![image.png](data:image/png;base64,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)\n",
        "\n",
        "The performance measure reported by k-fold cross-validation is then the average of the values computed in the loop. This approach can be computationally expensive, but does not waste too much data (as is the case when fixing an arbitrary validation set), which is a major advantage in problems such as inverse inference where the number of samples is very small.\n",
        "\n",
        "Reference: https://scikit-learn.org/stable/modules/cross_validation.html"
      ]
    },
    {
      "cell_type": "code",
      "execution_count": null,
      "id": "third-float",
      "metadata": {
        "id": "third-float"
      },
      "outputs": [],
      "source": [
        "# Split the data into training and test set\n",
        "X_train, X_test, y_train, y_test = model_selection.train_test_split(X, y, test_size = 0.3, random_state = 0) "
      ]
    },
    {
      "cell_type": "markdown",
      "id": "international-montgomery",
      "metadata": {
        "id": "international-montgomery"
      },
      "source": [
        "Here the defualt score of the cv score is R square value.\n",
        "Scores can also be specified with different evaluation metrics.\n",
        "For classification task, it has different default score metrics. \n",
        "\n",
        "But overally, the higher the score, the better the model.\n",
        "\n",
        "https://scikit-learn.org/stable/modules/model_evaluation.html#scoring-parameter"
      ]
    },
    {
      "cell_type": "code",
      "source": [
        "def display_plot(cv_scores, cv_scores_std, alpha_space):\n",
        "    fig = plt.figure()\n",
        "    ax = fig.add_subplot(1,1,1)\n",
        "    ax.plot(alpha_space, cv_scores)\n",
        "\n",
        "    std_error = cv_scores_std / np.sqrt(10)\n",
        "\n",
        "    ax.fill_between(alpha_space, cv_scores + std_error, cv_scores - std_error, alpha=0.2)\n",
        "    ax.set_ylabel('CV Score +/- Std Error')\n",
        "    ax.set_xlabel('Alpha')\n",
        "    ax.axhline(np.max(cv_scores), linestyle='--', color='.5')\n",
        "    ax.set_xlim([alpha_space[0], alpha_space[-1]])\n",
        "    ax.set_xscale('log')\n",
        "    ax.set_title('CV Score and std error region vs Alpha')\n"
      ],
      "metadata": {
        "id": "vAeD_jIQEjFN"
      },
      "id": "vAeD_jIQEjFN",
      "execution_count": null,
      "outputs": []
    },
    {
      "cell_type": "code",
      "execution_count": null,
      "id": "appreciated-people",
      "metadata": {
        "id": "appreciated-people"
      },
      "outputs": [],
      "source": [
        "from sklearn.pipeline import make_pipeline\n",
        "from sklearn.preprocessing import StandardScaler\n",
        "\n",
        "# Try to test different range of alpha \n",
        "# alpha_space = [1e-3, 1e-2, 3e-2, 5e-2, 1e-1, 1, 3, 5, 10]\n",
        "# Setup the array of alphas and lists to store scores\n",
        "alpha_space = np.logspace(-4, 0, 100)\n",
        "ridge_scores = []\n",
        "ridge_scores_std = []\n",
        "\n",
        "# Create a ridge regressor: ridge\n",
        "ridge = linear_model.Ridge(normalize=True)\n",
        "\n",
        "\n",
        "# Compute scores over range of alphas\n",
        "for alpha in alpha_space:\n",
        "    \n",
        "    # Specify the alpha value to use: ridge.alhpa\n",
        "    ridge.alpha = alpha\n",
        "    \n",
        "    # Perform 10-fold CV: ridge_cv_scores\n",
        "    ridge_cv_scores = model_selection.cross_val_score(ridge, X_train, y_train, cv=10)\n",
        "    \n",
        "    # Append the mean of ridge_cv_scores to ridge_scores\n",
        "    ridge_scores.append(np.mean(ridge_cv_scores))\n",
        "    \n",
        "    # Append the std of ridge_cv_scores to ridge_scores_std\n",
        "    ridge_scores_std.append(np.std(ridge_cv_scores))\n",
        "    \n",
        "# Display the plot\n",
        "display_plot(ridge_scores, ridge_scores_std, alpha_space)"
      ]
    },
    {
      "cell_type": "code",
      "execution_count": null,
      "id": "supreme-choice",
      "metadata": {
        "id": "supreme-choice"
      },
      "outputs": [],
      "source": [
        "# It seems like alpha = 0.5-0.9 work well for the ridge regression model\n",
        "# So let's try with some different value of alphas\n",
        "alpha = 0.06"
      ]
    },
    {
      "cell_type": "code",
      "execution_count": null,
      "id": "spectacular-observation",
      "metadata": {
        "id": "spectacular-observation"
      },
      "outputs": [],
      "source": [
        "# Define ridge regression model\n",
        "ridge_model = linear_model.Ridge(alpha = 0.6, normalize=True)\n",
        "# Fit the model\n",
        "ridge_model.fit(X_train, y_train)"
      ]
    },
    {
      "cell_type": "code",
      "execution_count": null,
      "id": "adaptive-collective",
      "metadata": {
        "id": "adaptive-collective"
      },
      "outputs": [],
      "source": [
        "# Make a prediction\n",
        "y_pred = ridge_model.predict(X_test)"
      ]
    },
    {
      "cell_type": "markdown",
      "id": "applied-emergency",
      "metadata": {
        "id": "applied-emergency"
      },
      "source": [
        "Model evaluation"
      ]
    },
    {
      "cell_type": "code",
      "execution_count": null,
      "id": "everyday-stage",
      "metadata": {
        "id": "everyday-stage"
      },
      "outputs": [],
      "source": [
        "# Obtain the value of MSE \n",
        "MSE = metrics.mean_squared_error(y_test, y_pred)\n",
        "print('MSE:', MSE)\n",
        "# Obtain the value of MAE \n",
        "MAE = metrics.mean_absolute_error(y_test, y_pred)\n",
        "print('MAE:', MAE)\n",
        "R2 = ridge_model.score(X_test, y_test)\n",
        "print(\"R2:\", R2)"
      ]
    },
    {
      "cell_type": "markdown",
      "id": "joined-great",
      "metadata": {
        "id": "joined-great"
      },
      "source": [
        "# Naive Bayes Models\n",
        "\n",
        "In this section, we apply a Naive Bayes model to predict diabetes in a patient based on glucose levels and blood pressure. Although the Naive Bayes model is a probabilistic model, the steps to use it are nearly identical to what we have seen previously, namely:\n",
        "1. Specify the model type\n",
        "2. Fit the model to training data\n",
        "3. Make predictions on test or validation data\n",
        "4. Evaluate the predictions\n",
        "\n",
        "![NB Model distribution.png](data:image/png;base64,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)"
      ]
    },
    {
      "cell_type": "code",
      "execution_count": null,
      "id": "excited-northeast",
      "metadata": {
        "id": "excited-northeast"
      },
      "outputs": [],
      "source": [
        "nb_df = pd.read_csv(\"https://raw.githubusercontent.com/Jpickard1/MIDASBioMedBootCamp/main/Session_10/data/NB_dataset.txt\", delimiter=',')\n",
        "nb_df.head()"
      ]
    },
    {
      "cell_type": "code",
      "execution_count": null,
      "id": "injured-thread",
      "metadata": {
        "id": "injured-thread"
      },
      "outputs": [],
      "source": [
        "print(nb_df.describe())\n",
        "print(nb_df.info())"
      ]
    },
    {
      "cell_type": "code",
      "execution_count": null,
      "id": "instant-wheat",
      "metadata": {
        "id": "instant-wheat"
      },
      "outputs": [],
      "source": [
        "# Separate data and labels\n",
        "X = nb_df[[\"glucose\", \"bloodpressure\"]].to_numpy()\n",
        "y = nb_df[\"diabetes\"].to_numpy()"
      ]
    },
    {
      "cell_type": "code",
      "execution_count": null,
      "id": "related-proceeding",
      "metadata": {
        "id": "related-proceeding"
      },
      "outputs": [],
      "source": [
        "X_train, X_test, y_train, y_test = model_selection.train_test_split(X, y, test_size = 0.25, random_state = 1)"
      ]
    },
    {
      "cell_type": "code",
      "execution_count": null,
      "id": "raising-protein",
      "metadata": {
        "id": "raising-protein"
      },
      "outputs": [],
      "source": [
        "# Specify model\n",
        "nb_model = naive_bayes.GaussianNB()\n",
        "# Fit the model to data\n",
        "nb_model.fit(X_train, y_train)"
      ]
    },
    {
      "cell_type": "code",
      "source": [
        "fig, ax = plt.subplots()\n",
        "plot_decision_regions(X_train, y_train, clf = nb_model, ax=ax)\n",
        "ax.set_xlabel('Blood Pressure')\n",
        "ax.set_ylabel('Glucose')\n",
        "\n",
        "# Adding axes annotations\n",
        "fig.suptitle('Decision Boundary of Naive Bayes Model')\n",
        "plt.show()"
      ],
      "metadata": {
        "id": "sXbBn3H-_fmE"
      },
      "id": "sXbBn3H-_fmE",
      "execution_count": null,
      "outputs": []
    },
    {
      "cell_type": "code",
      "source": [
        "# Make predictions on test data\n",
        "y_pred = nb_model.predict(X_test)"
      ],
      "metadata": {
        "id": "WRSWah7Q8sDR"
      },
      "id": "WRSWah7Q8sDR",
      "execution_count": null,
      "outputs": []
    },
    {
      "cell_type": "markdown",
      "id": "duplicate-denial",
      "metadata": {
        "id": "duplicate-denial"
      },
      "source": [
        "**Model Evaluation**\n",
        "\n",
        "Finally, we need to check to see how well our model is performing on the test data. For this, we evaluate our model by finding the accuracy score produced by the model."
      ]
    },
    {
      "cell_type": "code",
      "execution_count": null,
      "id": "hawaiian-header",
      "metadata": {
        "id": "hawaiian-header"
      },
      "outputs": [],
      "source": [
        "accuracy = metrics.accuracy_score(y_pred, y_test)*100\n",
        "f1 = metrics.f1_score(y_test, y_pred)\n",
        "# Avoid using variables with the same name as a function\n",
        "fpr, tpr, thresholds = metrics.roc_curve(y_test, y_pred)\n",
        "auc_value = metrics.auc(fpr, tpr)"
      ]
    },
    {
      "cell_type": "code",
      "execution_count": null,
      "id": "utility-sterling",
      "metadata": {
        "id": "utility-sterling"
      },
      "outputs": [],
      "source": [
        "print(\"Accuracy: \", accuracy)\n",
        "print(\"F1: \", f1)\n",
        "print(\"AUC: \", auc_value)"
      ]
    },
    {
      "cell_type": "markdown",
      "id": "intimate-diamond",
      "metadata": {
        "id": "intimate-diamond"
      },
      "source": [
        "# Wrap Up\n",
        "\n",
        "This concludes the prewritten, structured code of this notebook. The main takeaways from this session and notebook should be:\n",
        "1. The process for building a model (specify type, fit, predict, evaluate)\n",
        "2. Methods for dealing with data\n",
        "3. Methods for evaluating models"
      ]
    }
  ],
  "metadata": {
    "kernelspec": {
      "display_name": "Python 3",
      "language": "python",
      "name": "python3"
    },
    "language_info": {
      "codemirror_mode": {
        "name": "ipython",
        "version": 3
      },
      "file_extension": ".py",
      "mimetype": "text/x-python",
      "name": "python",
      "nbconvert_exporter": "python",
      "pygments_lexer": "ipython3",
      "version": "3.8.5"
    },
    "colab": {
      "name": "Regression and Naive Bayes.ipynb",
      "provenance": [],
      "collapsed_sections": [],
      "include_colab_link": true
    }
  },
  "nbformat": 4,
  "nbformat_minor": 5
}