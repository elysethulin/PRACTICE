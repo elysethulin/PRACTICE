{
  "cells": [
    {
      "cell_type": "markdown",
      "metadata": {
        "id": "view-in-github",
        "colab_type": "text"
      },
      "source": [
        "<a href=\"https://colab.research.google.com/github/elysethulin/PRACTICE/blob/master/Introduction_to_Coding_in_Python.ipynb\" target=\"_parent\"><img src=\"https://colab.research.google.com/assets/colab-badge.svg\" alt=\"Open In Colab\"/></a>"
      ]
    },
    {
      "cell_type": "markdown",
      "id": "cc8c6eff",
      "metadata": {
        "id": "cc8c6eff"
      },
      "source": [
        "# Welcome to the MIDAS Bootcamp Programming Section\n",
        "\n",
        "Welcome to the Data Science Bootcamp for Biomedical Scientists by MIDAS. If you can read this, then you are all set in terms of software setup for the programming portions of the Bootcamp.\n",
        "\n",
        "\n",
        "Notebooks like this will be the basis each programming session. Every notebook contains some text, to explain key concepts in programming and data science, as well as prewritten code that can be run online.\n",
        "\n",
        "\n",
        "When you first open a notebook, you need to save it to your google drive in order to make and save edits. If you don't do this, then you will be able to edit and run the code, but you won't be able to return to your work. To save a copy of this notebook, in the top left, click `File`, and then click `Save a Copy in Drive`. This will save a copy of the file to your google drive, so that you can edit, run, save, and return to your work.\n",
        "\n",
        "## Introduction to Python\n",
        "\n",
        "This CoLab Notebook contains information on the basics of programming in Python. If you have programmed in any other language before, it should be fairly easy to pick up, but otherwise the notebook aims to teach the main programming concepts required to use Python for data science the rest of the week and moving forward!\n",
        "\n",
        "Feel free to take a glance through the notebook prior to the first day, especially if you have never programmed before. There are no data science related concepts here, but having an understanding of variables, the control flow, and data structures as well as the syntax of Python will be very helpful moving forward.\n",
        "\n",
        "We will go over these instructions and all of the code in this notebook in the first programming session on Monday.\n",
        "\n",
        "Please reach out with any questions or concerns: jpic@umich.edu"
      ]
    },
    {
      "cell_type": "code",
      "execution_count": null,
      "id": "02ed7a1d",
      "metadata": {
        "id": "02ed7a1d"
      },
      "outputs": [],
      "source": [
        "# Basic Python Functions\n",
        "print('')"
      ]
    },
    {
      "cell_type": "markdown",
      "id": "2c7e18cb",
      "metadata": {
        "id": "2c7e18cb"
      },
      "source": [
        "# Fundamentals of Programming\n",
        "\n",
        "The goal of using python is to allow us to explore the implementation of concepts covered in earlier sessions. To do this, we need to cover the main parts of any program:\n",
        "\n",
        "1. Variables\n",
        "2. Data Structures\n",
        "3. Control Flow\n",
        "\n",
        "With these 3 concepts, we will cover the minimum concepts of programming to explore concepts in data science and machine learning."
      ]
    },
    {
      "cell_type": "markdown",
      "id": "31df3e93",
      "metadata": {
        "id": "31df3e93"
      },
      "source": [
        "## Variables\n",
        "\n",
        "The purpose of a variable is to store data in the program. A variable stores the most smallest amount of data that we can work with in a programming language. Three main types of variables Python uses are:\n",
        "\n",
        "1. Numbers (Integers or floats)\n",
        "2. Boolean (True/False)\n",
        "3. Strings (Words and lists of characters)\n",
        "\n",
        "Since we will be working with data, we will primarily be interested in working with numbers. Python automatically handles setting the type of variable when it is created. Every type of variable should allow for:\n",
        "\n",
        "1. Assignment (create a variable and assign it a value)\n",
        "2. Modification (reassign the value)\n",
        "3. Reference (access the value)\n",
        "\n",
        "In the case of a number, the above operations can be accomplished with standard arithmetic operations (=,+,-,/,*). The names of variables must start with letters (not numbers)."
      ]
    },
    {
      "cell_type": "markdown",
      "id": "13fe5ab9",
      "metadata": {
        "id": "13fe5ab9"
      },
      "source": [
        "### Assignment\n",
        "\n",
        "Variable assignment creates a new variable, assigning a section of computer memory to save it, setting a value to the memory, and setting a name that references the memory that can be used in the program. When a variable is assigned, the variable name is on the left side of `=` and the value is on the right side.\n",
        "\n",
        "### Modification\n",
        "\n",
        "Modifying a variable is similar to assigning a value to a variable that already exist. Using the name of a preexisting variable, a new value for the variable is saved. It is best practice for the new value of the variable to be the same type of data as the original (i.e. if a variable is initialized as `x=5`, then when `x` is modified its value should be set to another number). Similar to assignment, when modifying the value of a variable, the variable name is on the left of `=` and the new value is on the right.\n",
        "\n",
        "### Reference\n",
        "\n",
        "Referencing a variable accesses the value of the variable and passes the saved data to a new piece of the program. When referencing the variable, the variable will appear either on the right side of `=`, within a function call or in the condition of a control section in the code."
      ]
    },
    {
      "cell_type": "code",
      "execution_count": null,
      "id": "e141cf1e",
      "metadata": {
        "id": "e141cf1e"
      },
      "outputs": [],
      "source": [
        "# Assignment of a number\n",
        "x =           # x is the name of a new variable\n",
        "              # 10 is saved in memory as the value of x\n",
        "\n",
        "print()       # The value of x is passed to the print function\n",
        "              # This is a reference to the variable x"
      ]
    },
    {
      "cell_type": "code",
      "source": [
        "# Assignment of a string\n",
        "y =           # y is the name of a new variable\n",
        "              # The string \"MIDAS\" is saved in memory\n",
        "              \n",
        "print()       # The value of y is passed to the print function\n",
        "              # This is a reference to the variable y"
      ],
      "metadata": {
        "id": "o6JFeoZ-NgCh"
      },
      "id": "o6JFeoZ-NgCh",
      "execution_count": null,
      "outputs": []
    },
    {
      "cell_type": "code",
      "source": [
        "# Modification of a number\n",
        "x =           # x is already created as a variable\n",
        "              # the old value 10 is erased and 5 is saved as the new value\n",
        "print()"
      ],
      "metadata": {
        "id": "NNkGkWJvNLKs"
      },
      "id": "NNkGkWJvNLKs",
      "execution_count": null,
      "outputs": []
    },
    {
      "cell_type": "code",
      "source": [
        "# Modification of a string\n",
        "y = \n",
        "\n",
        "print(y)\n",
        "y = y + \n",
        "print(y)"
      ],
      "metadata": {
        "id": "vb3mOHVEOPDM"
      },
      "id": "vb3mOHVEOPDM",
      "execution_count": null,
      "outputs": []
    },
    {
      "cell_type": "code",
      "source": [
        "# Referencing a number\n",
        "print('x+1=' + str(x+1))\n",
        "print('x-1=' + str(x-1))\n",
        "print('x*2=' + str(x*2))\n",
        "print('x/2=' + str(x/2))"
      ],
      "metadata": {
        "id": "4KAIAIv2OJMs"
      },
      "id": "4KAIAIv2OJMs",
      "execution_count": null,
      "outputs": []
    },
    {
      "cell_type": "code",
      "source": [
        "## Reference a number\n",
        "# i == j is True if variables i and j have the same value and false otherwise\n",
        "# i != j is True if variables i and j have different values and false otherwise\n",
        "print('x=' + str(x))\n",
        "print('x==5: ' + str(x==5))\n",
        "print('x==6: ' + str(x==6))\n",
        "print('x!=5: ' + str(x!=5))\n",
        "print('x!=6: ' + str(x!=6))\n",
        "print('x<6: ' + str(x>6))\n",
        "print('x>6: ' + str(x<6))"
      ],
      "metadata": {
        "id": "eXNnHt8Qicr9"
      },
      "id": "eXNnHt8Qicr9",
      "execution_count": null,
      "outputs": []
    },
    {
      "cell_type": "code",
      "source": [
        "# Referencing a string\n",
        "print(y[0:2])   # Prints only the first 2 characters of the string\n",
        "print(y[3:7])   # Prints characters 2-6 of the string\n",
        "z = y           # References y and assigns value of y to z\n",
        "print(z)        # Reference to z"
      ],
      "metadata": {
        "id": "55dFMSHKOpVg"
      },
      "id": "55dFMSHKOpVg",
      "execution_count": null,
      "outputs": []
    },
    {
      "cell_type": "code",
      "execution_count": null,
      "id": "9895a857",
      "metadata": {
        "id": "9895a857"
      },
      "outputs": [],
      "source": [
        "# References and assignment\n",
        "x = x + 1\n",
        "print(x)\n",
        "x = x - 1\n",
        "print(x)\n",
        "x = x * 2\n",
        "print(x)\n",
        "x = x / 2\n",
        "print(x)"
      ]
    },
    {
      "cell_type": "markdown",
      "source": [
        "## Data Structures\n",
        "\n",
        "A data structure is like a larger variable. Data strauctures are used to store larger amounts of information than single variables. The most common type of data structure we will use is an array, which stores a variable at each index in the array. Similar to a variable, data structures must provide the following:\n",
        "\n",
        "1. Assignment\n",
        "2. Modification\n",
        "3. Reference\n",
        "\n",
        "Each of these fill the same role as they did for single variables.\n",
        "\n",
        "An array is a continuous segment of memory, and each section of memory stores the same information as one single variable. Sections of an array can be accessed for the purpose of assignment, modification or reference by using `[index]`, where `index` is a number referencing a specific position in the array. This is similar to how we referenced elements of a string in the pervious cell.\n",
        "\n",
        "The below cell of code shows an example of using arrays similar to how variables were used in the pervious section."
      ],
      "metadata": {
        "id": "CBiZpZ7aPNaJ"
      },
      "id": "CBiZpZ7aPNaJ"
    },
    {
      "cell_type": "code",
      "source": [
        "# Assign arr to be an array of numbers\n",
        "arr = \n",
        "print('arr=' + str(arr))\n",
        "\n",
        "# Modify a single element in arr\n",
        "arr[0] = \n",
        "print('arr=' + str(arr))\n",
        "\n",
        "# Reference arr\n",
        "arr2 = \n",
        "print('arr=' + str(arr))\n",
        "\n",
        "# Reference an element in arr\n",
        "arr_element = \n",
        "print('arr_element=' + str(arr_element))\n",
        "\n",
        "# Reference a set of elements in arr\n",
        "arr_element2 = \n",
        "print('arr_element=' + str(arr_element2))"
      ],
      "metadata": {
        "id": "enMhcahaPN40"
      },
      "id": "enMhcahaPN40",
      "execution_count": null,
      "outputs": []
    },
    {
      "cell_type": "markdown",
      "id": "25f2c154",
      "metadata": {
        "id": "25f2c154"
      },
      "source": [
        "## Control Flow\n",
        "\n",
        "Control flow is the order in which lines of code are accessed. When a program begins, the top line of code is always executed first, and each line of code directs which line will be next. We will see control flow in the form of:\n",
        "1. If/Else\n",
        "2. Loops\n",
        "3. Functions\n",
        "\n",
        "TIP: In Python, the indentation of a line of code can be used to determine how that line gets accessed. All lines of code at the same level of indentation constitute a code block, and all code in a code block executes in order."
      ]
    },
    {
      "cell_type": "markdown",
      "id": "a5ad809e",
      "metadata": {
        "id": "a5ad809e"
      },
      "source": [
        "### If/Else\n",
        "\n",
        "In an `if` statement, when the condition is true, the following lines of indented code are executed, but when the condition is not true, the execution step will jump to the next `if`, `elif` (else if), or `else` statement. For a set of `if` statements, once a section has been executed, the code skips checking the remaining `if`, `elif`, or `else` conditions. The condition being checked must take the form of an expression that evaluates to `True` or `False`.\n",
        "\n",
        "For example, the conditions could be `x < 5`, `x > 5` and `x == 5` (`x` equals 5) must always be either `True` or `False`, and the truth value of these statments depends on the value of `x`. These values can be combined using `and` and `or` qualifiers.\n",
        "\n",
        "For example, `x < 5 or x == 5` is `True` when either `x=5` or `x` has a value less than 5. Sometimes this condition is true, and sometimes it is false, making it a good condition to check.\n",
        "\n",
        "However, the statments `x < 5 and x > 5` and `x == 5 or x != 5` are both bad predicates. The first one is bad because it is always `False.` No number can be both smaller and greater than 5. The second predicate is bad because it is always `True`. Every number is either equal to 5 or not equal to 5, so no matter the value of `x`, the first predicate is `False` and the second predicate is `True`.\n",
        "\n",
        "In Python, we use the following commands to check relationships among variables:\n",
        "* Greater than: `>`\n",
        "* Less than: `<`\n",
        "* Greater than or equal to: `>=`\n",
        "* Less than or equal to: `<=`\n",
        "* Equal: `==` (note how this is different than variable assignment with `=`)\n",
        "* Not equal `!=`"
      ]
    },
    {
      "cell_type": "code",
      "execution_count": null,
      "id": "888e987b",
      "metadata": {
        "id": "888e987b"
      },
      "outputs": [],
      "source": [
        "# TODO: Fill in the conditions of the if statemet block\n",
        "x = \n",
        "if\n",
        "    print(\"x==5 is true\")\n",
        "elif\n",
        "    print(\"x<6 is true\")\n",
        "else:\n",
        "    print(\"else: neither condition was true\")"
      ]
    },
    {
      "cell_type": "markdown",
      "id": "876908d2",
      "metadata": {
        "id": "876908d2"
      },
      "source": [
        "Note: The `if` `elif` and `else` lines had no indentation, but the `print` lines were indented. This represents how the conditions must be checked before running the `print` lines."
      ]
    },
    {
      "cell_type": "markdown",
      "id": "a7472979",
      "metadata": {
        "id": "a7472979"
      },
      "source": [
        "### Loops in Python\n",
        "\n",
        "A loop in Python is a set of code that will execute multiple times as long as a condition is `True`. The conditions are formed similarly to the condition statements used above for `If/Else` statements.\n",
        "\n",
        "Below we see a `while` loop and a `for` loop. The below loops have different syntax, but will produce the same result.\n",
        "\n",
        "In the `for` loop, the variable, in this case `i`, will always begin at 0 and be increased by 1 at each iteration through the loop. It is common in most programming languages, including Python, that loops and indexes begin at 0 rather than 1. This is similar to how arrays are accessed."
      ]
    },
    {
      "cell_type": "code",
      "execution_count": null,
      "id": "78213230",
      "metadata": {
        "id": "78213230"
      },
      "outputs": [],
      "source": [
        "# TODO: Fill in a while loop printing the values 0 through 4\n",
        "x = \n",
        "while         # Check the condition\n",
        "              # Execute line 1 in the loop: print value of x\n",
        "              # Execute line 2 in the loop: increase counter"
      ]
    },
    {
      "cell_type": "code",
      "execution_count": null,
      "id": "8020d0ae",
      "metadata": {
        "id": "8020d0ae"
      },
      "outputs": [],
      "source": [
        "# TODO: Fill in a for loop printing the values 0 through 4\n",
        "for                # For loop conditions have a different syntax\n",
        "                   # Execute line 1 in the loop: print the value of x"
      ]
    },
    {
      "cell_type": "markdown",
      "id": "675fd6a1",
      "metadata": {
        "id": "675fd6a1"
      },
      "source": [
        "### Functions\n",
        "\n",
        "A function is a section of code that will be executed each time it is called. We have been using the `print` function already to print the values of each variable.\n",
        "\n",
        "Functions are useful because they allow us to write code once but use it many times. When the function is declared, no code is actually executed, it is just stored in memory for later use.\n",
        "\n",
        "A function declaration always has the syntax `def function_name(parameters)`. The function name can be any string, but it is best to name it something that refers to the code it executes. The parameters are a set of variables that will be used within the function.\n",
        "\n",
        "A function call has the syntax `function_name(variables)`. This will execute the function code with the variable values passed as parameters."
      ]
    },
    {
      "cell_type": "code",
      "execution_count": null,
      "id": "47e08098",
      "metadata": {
        "id": "47e08098"
      },
      "outputs": [],
      "source": [
        "# Function declaration\n",
        "def sum_elements(arr):\n",
        "  # TODO: fill in the function body\n",
        "  "
      ]
    },
    {
      "cell_type": "code",
      "execution_count": null,
      "id": "b3847b60",
      "metadata": {
        "id": "b3847b60"
      },
      "outputs": [],
      "source": [
        "# Calling the function\n",
        "\n",
        "# Set array\n",
        "x = [0,1,2,3,4]\n",
        "# Call function and assign value to array_sum variable\n",
        "array_sum = sum_elements(x)\n",
        "print(array_sum)"
      ]
    },
    {
      "cell_type": "markdown",
      "source": [
        "# Python Libraries\n",
        "\n",
        "A library is a set of code with built in functions that we can utilize. The main libraries we will be using are `NumPy`, which stores arrays as matrix data structures and has a series of built in functions for scientific computing, and `Matplotlib`, which we will use to generate plots.\n",
        "\n",
        "Throughout the course a series of other libraries will be introduced with preimplemented code for machine learning and data analysis.\n",
        "\n",
        "The first step is to import each library. If you run code on your machine, you may need to download it, but CoLab handles installing all libraries for us."
      ],
      "metadata": {
        "id": "0T_rWgb_qKhm"
      },
      "id": "0T_rWgb_qKhm"
    },
    {
      "cell_type": "code",
      "execution_count": null,
      "id": "a4b25330",
      "metadata": {
        "id": "a4b25330"
      },
      "outputs": [],
      "source": [
        "# Import libraries\n",
        "import numpy as np\n",
        "import matplotlib.pyplot as plt"
      ]
    },
    {
      "cell_type": "markdown",
      "source": [
        "### NumPy Matrices\n",
        "A `NumPy` matrix works similar to an array, and they are created using similar syntax. The following cell creates a 2D matrix and prints the matrix as well as shape and size, 2 attributes of the matrix data structure."
      ],
      "metadata": {
        "id": "43ZSXfRZrhT2"
      },
      "id": "43ZSXfRZrhT2"
    },
    {
      "cell_type": "code",
      "execution_count": null,
      "id": "fc81ec4a",
      "metadata": {
        "id": "fc81ec4a"
      },
      "outputs": [],
      "source": [
        "# Create a numpy matrix\n",
        "x = np.array([[1,2,3],[4,5,6]])\n",
        "print(x)\n",
        "print(x.shape)\n",
        "print(x.size)"
      ]
    },
    {
      "cell_type": "markdown",
      "source": [
        "Matrixes can be accessed similar to arrays with `[index]` syntax, but also entire rows or columns of the matrix may be accessed with slices."
      ],
      "metadata": {
        "id": "4eMp9k25r3QS"
      },
      "id": "4eMp9k25r3QS"
    },
    {
      "cell_type": "code",
      "execution_count": null,
      "id": "14d7e1a6",
      "metadata": {
        "scrolled": true,
        "id": "14d7e1a6"
      },
      "outputs": [],
      "source": [
        "# Slicing\n",
        "for i in x:\n",
        "    print(i)"
      ]
    },
    {
      "cell_type": "code",
      "source": [
        "# Access rows of x\n",
        "for i in range(len(x)):\n",
        "  print(x[i,:])"
      ],
      "metadata": {
        "id": "Q2MyQ-YQsGT5"
      },
      "id": "Q2MyQ-YQsGT5",
      "execution_count": null,
      "outputs": []
    },
    {
      "cell_type": "code",
      "source": [
        "# Access columns of x\n",
        "for i in range(len(x[0])):\n",
        "  print(x[:,i])"
      ],
      "metadata": {
        "id": "_CXFPuhYsMVV"
      },
      "id": "_CXFPuhYsMVV",
      "execution_count": null,
      "outputs": []
    },
    {
      "cell_type": "markdown",
      "source": [
        "Individual elements of `x` can also be accessed one at a time with the following 2 types of syntax."
      ],
      "metadata": {
        "id": "EwsUx0DNsWzO"
      },
      "id": "EwsUx0DNsWzO"
    },
    {
      "cell_type": "code",
      "execution_count": null,
      "id": "476448a3",
      "metadata": {
        "id": "476448a3"
      },
      "outputs": [],
      "source": [
        "# Indexing\n",
        "for i in x:\n",
        "    for j in i:\n",
        "        print(j)"
      ]
    },
    {
      "cell_type": "code",
      "source": [
        "for i in range(len(x)):\n",
        "  for j in range(len(x[0])):\n",
        "    print(x[i,j])"
      ],
      "metadata": {
        "id": "RkTz5ZvKsfPP"
      },
      "id": "RkTz5ZvKsfPP",
      "execution_count": null,
      "outputs": []
    },
    {
      "cell_type": "markdown",
      "source": [
        "`NumPy` has a series of built in functions for quickly accessing and modifying matrices. The matrices can be reshaped, multiplied, have norms computed, and many other operations done to them."
      ],
      "metadata": {
        "id": "NWFQbSkjsoyK"
      },
      "id": "NWFQbSkjsoyK"
    },
    {
      "cell_type": "code",
      "execution_count": null,
      "id": "b5009864",
      "metadata": {
        "id": "b5009864"
      },
      "outputs": [],
      "source": [
        "# Reshape a matrix\n",
        "print(x)\n",
        "y = x.reshape(3,2)\n",
        "print(y)\n"
      ]
    },
    {
      "cell_type": "code",
      "source": [
        "# Matrix multiplication: z = x * y\n",
        "y = np.array([1,2,3])\n",
        "z = np.matmul(x,y)\n",
        "print(z)"
      ],
      "metadata": {
        "id": "MtAu4oyJtBMk"
      },
      "id": "MtAu4oyJtBMk",
      "execution_count": null,
      "outputs": []
    },
    {
      "cell_type": "code",
      "source": [
        "# Compute the norm of a matrix or vector\n",
        "# Valid norms:\n",
        "#   1. fro: Frobenius\n",
        "#   2. nuc: nuclear\n",
        "\n",
        "# TODO: Fill in a norm for the 'ord' argument\n",
        "np.linalg.norm(x, ord=)"
      ],
      "metadata": {
        "id": "70ZWQbQjtUg8"
      },
      "id": "70ZWQbQjtUg8",
      "execution_count": null,
      "outputs": []
    },
    {
      "cell_type": "markdown",
      "source": [
        "### Additional `NumPy` Functions\n",
        "The `NumPy` library has many more functions than we can cover here, but the following cell contains a few basic functions that you may be interested in using. For a reference of all capibilities and built in functionality of `NumPy` please see: https://numpy.org/\n",
        "\n",
        "In the remaining code, we may use new functions from `NumPy` and the above is a valuable reference. Learning to quickly read and evaluate and use new libraries based on documentation like this is an important part of programming."
      ],
      "metadata": {
        "id": "T93AqsgzuiaT"
      },
      "id": "T93AqsgzuiaT"
    },
    {
      "cell_type": "code",
      "execution_count": null,
      "id": "11ea563f",
      "metadata": {
        "id": "11ea563f"
      },
      "outputs": [],
      "source": [
        "# TODO: Create a new array\n",
        "x = np.array([]) # Create a new array\n",
        "\n",
        "# Functions for NumPy arrays\n",
        "print(np.max(x))    # Maximum value in the array\n",
        "print(np.min(x))    # Minimum value in the array\n",
        "print(np.argmax(x)) # Location of the maximum value in the array \n",
        "print(np.argmin(x)) # Location of the minimum value in the array\n",
        "print(np.mean(x))   # Average or mean value in the array\n",
        "print(np.median(x)) # Median value in the array\n",
        "print(np.std(x))    # Standard deviation in the array"
      ]
    },
    {
      "cell_type": "markdown",
      "source": [
        "# Matplotlib.pyplot\n",
        "\n",
        "The following cells use `NumPy` to create arrays and apply a math function `sin, log, exponential` to them. These results are then plotted using the `plt.plot()` function."
      ],
      "metadata": {
        "id": "tWE79IfQvioa"
      },
      "id": "tWE79IfQvioa"
    },
    {
      "cell_type": "code",
      "execution_count": null,
      "id": "5a2a0f5e",
      "metadata": {
        "scrolled": true,
        "id": "5a2a0f5e"
      },
      "outputs": [],
      "source": [
        "# Special Functions in NumPy\n",
        "x = np.arange(0.01,10,0.01)\n",
        "y = np.log(x)\n",
        "plt.plot(x,y)\n",
        "\n",
        "# TODO: Fill in plotting arguments\n",
        "plt.title(\"\")\n",
        "plt.xlabel(\"\")\n",
        "plt.ylabel(\"\")"
      ]
    },
    {
      "cell_type": "code",
      "execution_count": null,
      "id": "da013c23",
      "metadata": {
        "id": "da013c23"
      },
      "outputs": [],
      "source": [
        "x = np.arange(0,10,0.01)\n",
        "y = np.exp(x)\n",
        "\n",
        "# TODO: Fill in plotting arguments\n",
        "plt.plot()\n",
        "plt.title(\"\")\n",
        "plt.xlabel(\"\")\n",
        "plt.ylabel(\"\")"
      ]
    },
    {
      "cell_type": "code",
      "execution_count": null,
      "id": "9050b87d",
      "metadata": {
        "id": "9050b87d"
      },
      "outputs": [],
      "source": [
        "x = np.arange(0,3*np.pi, 0.01)\n",
        "y = np.sin(x)\n",
        "\n",
        "# TODO: Fill in plotting arguments\n",
        "plt.plot()\n",
        "plt.title(\"\")\n",
        "plt.xlabel(\"\")\n",
        "plt.ylabel(\"\")"
      ]
    },
    {
      "cell_type": "code",
      "execution_count": null,
      "id": "c7475ce2-f1bf-4819-9609-3f5624b997c7",
      "metadata": {
        "id": "c7475ce2-f1bf-4819-9609-3f5624b997c7"
      },
      "outputs": [],
      "source": [
        "# Generate random data\n",
        "x = np.random.rand()\n",
        "\n",
        "# Scatter plot\n",
        "plt.scatter(x[:,0],x[:,1])\n",
        "\n",
        "# TODO: Fill in plotting arguments\n",
        "plt.title(\"\")\n",
        "plt.xlabel(\"\")\n",
        "plt.ylabel(\"\")"
      ]
    }
  ],
  "metadata": {
    "kernelspec": {
      "display_name": "Python 3",
      "language": "python",
      "name": "python3"
    },
    "language_info": {
      "codemirror_mode": {
        "name": "ipython",
        "version": 3
      },
      "file_extension": ".py",
      "mimetype": "text/x-python",
      "name": "python",
      "nbconvert_exporter": "python",
      "pygments_lexer": "ipython3",
      "version": "3.8.5"
    },
    "colab": {
      "name": "Introduction to Coding in Python.ipynb",
      "provenance": [],
      "include_colab_link": true
    }
  },
  "nbformat": 4,
  "nbformat_minor": 5
}